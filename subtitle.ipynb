{
 "cells": [
  {
   "cell_type": "code",
   "execution_count": 5,
   "metadata": {},
   "outputs": [
    {
     "name": "stdout",
     "output_type": "stream",
     "text": [
      "^C\n"
     ]
    }
   ],
   "source": [
    "!pip uninstall whisper"
   ]
  },
  {
   "cell_type": "code",
   "execution_count": 6,
   "metadata": {},
   "outputs": [
    {
     "name": "stdout",
     "output_type": "stream",
     "text": [
      "Collecting openai-whisper\n",
      "  Downloading openai-whisper-20240930.tar.gz (800 kB)\n",
      "     ---------------------------------------- 0.0/800.5 kB ? eta -:--:--\n",
      "     ------------------------------------- 800.5/800.5 kB 11.7 MB/s eta 0:00:00\n",
      "  Installing build dependencies: started\n",
      "  Installing build dependencies: finished with status 'done'\n",
      "  Getting requirements to build wheel: started\n",
      "  Getting requirements to build wheel: finished with status 'done'\n",
      "  Preparing metadata (pyproject.toml): started\n",
      "  Preparing metadata (pyproject.toml): finished with status 'done'\n",
      "Requirement already satisfied: numba in c:\\users\\hp\\anaconda3\\lib\\site-packages (from openai-whisper) (0.60.0)\n",
      "Requirement already satisfied: numpy in c:\\users\\hp\\anaconda3\\lib\\site-packages (from openai-whisper) (1.26.4)\n",
      "Requirement already satisfied: torch in c:\\users\\hp\\anaconda3\\lib\\site-packages (from openai-whisper) (2.5.1+cu121)\n",
      "Requirement already satisfied: tqdm in c:\\users\\hp\\anaconda3\\lib\\site-packages (from openai-whisper) (4.66.5)\n",
      "Requirement already satisfied: more-itertools in c:\\users\\hp\\anaconda3\\lib\\site-packages (from openai-whisper) (10.3.0)\n",
      "Collecting tiktoken (from openai-whisper)\n",
      "  Downloading tiktoken-0.9.0-cp312-cp312-win_amd64.whl.metadata (6.8 kB)\n",
      "Requirement already satisfied: llvmlite<0.44,>=0.43.0dev0 in c:\\users\\hp\\anaconda3\\lib\\site-packages (from numba->openai-whisper) (0.43.0)\n",
      "Requirement already satisfied: regex>=2022.1.18 in c:\\users\\hp\\anaconda3\\lib\\site-packages (from tiktoken->openai-whisper) (2024.9.11)\n",
      "Requirement already satisfied: requests>=2.26.0 in c:\\users\\hp\\anaconda3\\lib\\site-packages (from tiktoken->openai-whisper) (2.32.3)\n",
      "Requirement already satisfied: filelock in c:\\users\\hp\\anaconda3\\lib\\site-packages (from torch->openai-whisper) (3.13.1)\n",
      "Requirement already satisfied: typing-extensions>=4.8.0 in c:\\users\\hp\\anaconda3\\lib\\site-packages (from torch->openai-whisper) (4.11.0)\n",
      "Requirement already satisfied: networkx in c:\\users\\hp\\anaconda3\\lib\\site-packages (from torch->openai-whisper) (3.3)\n",
      "Requirement already satisfied: jinja2 in c:\\users\\hp\\anaconda3\\lib\\site-packages (from torch->openai-whisper) (3.1.4)\n",
      "Requirement already satisfied: fsspec in c:\\users\\hp\\anaconda3\\lib\\site-packages (from torch->openai-whisper) (2024.6.1)\n",
      "Requirement already satisfied: setuptools in c:\\users\\hp\\anaconda3\\lib\\site-packages (from torch->openai-whisper) (75.1.0)\n",
      "Requirement already satisfied: sympy==1.13.1 in c:\\users\\hp\\anaconda3\\lib\\site-packages (from torch->openai-whisper) (1.13.1)\n",
      "Requirement already satisfied: mpmath<1.4,>=1.1.0 in c:\\users\\hp\\anaconda3\\lib\\site-packages (from sympy==1.13.1->torch->openai-whisper) (1.3.0)\n",
      "Requirement already satisfied: colorama in c:\\users\\hp\\anaconda3\\lib\\site-packages (from tqdm->openai-whisper) (0.4.6)\n",
      "Requirement already satisfied: charset-normalizer<4,>=2 in c:\\users\\hp\\anaconda3\\lib\\site-packages (from requests>=2.26.0->tiktoken->openai-whisper) (3.3.2)\n",
      "Requirement already satisfied: idna<4,>=2.5 in c:\\users\\hp\\anaconda3\\lib\\site-packages (from requests>=2.26.0->tiktoken->openai-whisper) (3.7)\n",
      "Requirement already satisfied: urllib3<3,>=1.21.1 in c:\\users\\hp\\anaconda3\\lib\\site-packages (from requests>=2.26.0->tiktoken->openai-whisper) (2.2.3)\n",
      "Requirement already satisfied: certifi>=2017.4.17 in c:\\users\\hp\\anaconda3\\lib\\site-packages (from requests>=2.26.0->tiktoken->openai-whisper) (2025.1.31)\n",
      "Requirement already satisfied: MarkupSafe>=2.0 in c:\\users\\hp\\anaconda3\\lib\\site-packages (from jinja2->torch->openai-whisper) (2.1.3)\n",
      "Downloading tiktoken-0.9.0-cp312-cp312-win_amd64.whl (894 kB)\n",
      "   ---------------------------------------- 0.0/894.9 kB ? eta -:--:--\n",
      "   --------------------------------------- 894.9/894.9 kB 19.8 MB/s eta 0:00:00\n",
      "Building wheels for collected packages: openai-whisper\n",
      "  Building wheel for openai-whisper (pyproject.toml): started\n",
      "  Building wheel for openai-whisper (pyproject.toml): finished with status 'done'\n",
      "  Created wheel for openai-whisper: filename=openai_whisper-20240930-py3-none-any.whl size=803407 sha256=5a7f144f2613853ea12800be932081649f7143ba501e556b1e404c8f199241ad\n",
      "  Stored in directory: c:\\users\\hp\\appdata\\local\\pip\\cache\\wheels\\7c\\f5\\6f\\92094c35416f9397abb86b23cfe72fb255a3013012f983136d\n",
      "Successfully built openai-whisper\n",
      "Installing collected packages: tiktoken, openai-whisper\n",
      "Successfully installed openai-whisper-20240930 tiktoken-0.9.0\n"
     ]
    }
   ],
   "source": [
    "!pip install openai-whisper"
   ]
  },
  {
   "cell_type": "code",
   "execution_count": 7,
   "metadata": {},
   "outputs": [],
   "source": [
    "import whisper\n",
    "import os\n",
    "import cv2\n",
    "from moviepy.editor import ImageSequenceClip,AudioFileClip,VideoFileClip\n",
    "from tqdm import tqdm"
   ]
  },
  {
   "cell_type": "code",
   "execution_count": null,
   "metadata": {},
   "outputs": [],
   "source": [
    "class VideoTranscriber:\n",
    "    def __init__(self,model_path, video_path):\n",
    "        self.model = whisper.load_model(model_path)\n",
    "        self.video_path = video_path\n",
    "        self.audio_path = \"\"\n",
    "        self.text_array = []\n",
    "        self.fps = 0\n",
    "        self.char_width = 0\n",
    "\n",
    "    def transcribe_video(self):\n",
    "        print(\"Transcribing Video..\")\n",
    "        result = self.model.transcribe(self.audio_path)\n",
    "        text = result[\"segments\"][0][\"text\"]\n",
    "        textsize = cv2.getTextSize(text,cv2,cv2.FONT_HERSHEY_SIMPLEX, 0.8, 2)[0]\n",
    "        cap = cv2.VideoCapture(self.video_path)\n",
    "        width = int(cap.get(cv2.CAP_PROP_FRAME_WIDTH))\n",
    "        height = int(cap.get(cv2.CAP_PROP_FRAME_HEIGHT))\n",
    "        asp = 16/9\n",
    "        ret, frame = cap.read()\n",
    "        width = frame[:, int(int(width-1/asp*height)/2):width-int((width-1/asp*height)/2)].shape[1]\n",
    "        width = width - (width*0.1)\n",
    "        self.fps = cap.get(cv2.CAP_PROP_FPS)\n",
    "        self.char_width = int(textsize[0]/len(text))\n",
    "\n",
    "        for j in tqdm(result[\"segments\"]):\n",
    "            lines=[]\n",
    "            text = j[\"text\"]\n",
    "            end = j[\"end\"]\n",
    "            start = j[\"start\"]\n",
    "            total_frames = int((end-start)*self.fps)\n",
    "            start = start*self.fps\n",
    "            total_chars = len(text)\n",
    "            words = text.split(\" \")\n",
    "            i=0\n",
    "\n",
    "            while i<len(words):\n",
    "                if words[i]==\"\":\n",
    "                    i+=1\n",
    "                    continue\n",
    "                length_in_pixels = len(words[i])*self.char_width\n",
    "                remaining_pixels = width-length_in_pixels\n",
    "                line = words[i]\n",
    "\n",
    "                while remaining_pixels>0:\n",
    "                    i+=1\n",
    "                    if i>=len(words):\n",
    "                        break\n",
    "                    length_in_pixels = len(words[i])*self.char_width\n",
    "                    remaining_pixels = length_in_pixels\n",
    "                    if remaining_pixels<0:\n",
    "                        continue\n",
    "                    else:\n",
    "                        line+=\"\"+words[i]\n",
    "                line_array = [line, int(start)+15, int(len(line)/total_chars*total_frames)+int(start)+15]\n",
    "                start = int(len(line)/total_chars*total_frames)+int(start)\n",
    "                lines.append(line_array)\n",
    "                self.text_array.append(line_array)\n",
    "        \n",
    "        cap.release()\n",
    "        print('Transcription Completed !')\n",
    "    \n",
    "    def extract_audio(self, output_audio_path=\"shorts/final_video.mp4\"):\n",
    "        print(\"extracting audio\")\n",
    "        video = VideoFileClip(self.video_path)\n",
    "        audio = video.audio\n",
    "        audio.write_audiofile(output_audio_path)\n",
    "        self.audio_path = output_audio_path\n",
    "        print(\"Audio Extracted\")\n",
    "\n",
    "    "
   ]
  },
  {
   "cell_type": "code",
   "execution_count": 10,
   "metadata": {},
   "outputs": [],
   "source": [
    "import whisper\n",
    "import os\n",
    "import shutil\n",
    "import cv2\n",
    "from moviepy.editor import ImageSequenceClip, AudioFileClip, VideoFileClip\n",
    "from tqdm import tqdm\n",
    "\n",
    "FONT = cv2.FONT_HERSHEY_SIMPLEX\n",
    "FONT_SCALE = 0.8\n",
    "FONT_THICKNESS = 2\n",
    "\n",
    "class VideoTranscriber:\n",
    "    def __init__(self, model_path, video_path):\n",
    "        self.model = whisper.load_model(model_path)\n",
    "        self.video_path = video_path\n",
    "        self.audio_path = ''\n",
    "        self.text_array = []\n",
    "        self.fps = 0\n",
    "        self.char_width = 0\n",
    "\n",
    "    def transcribe_video(self):\n",
    "        print('Transcribing video')\n",
    "        result = self.model.transcribe(self.audio_path)\n",
    "        text = result[\"segments\"][0][\"text\"]\n",
    "        textsize = cv2.getTextSize(text, FONT, FONT_SCALE, FONT_THICKNESS)[0]\n",
    "        cap = cv2.VideoCapture(self.video_path)\n",
    "        width = int(cap.get(cv2.CAP_PROP_FRAME_WIDTH))\n",
    "        height = int(cap.get(cv2.CAP_PROP_FRAME_HEIGHT))\n",
    "        asp = 16/9\n",
    "        ret, frame = cap.read()\n",
    "        width = frame[:, int(int(width - 1 / asp * height) / 2):width - int((width - 1 / asp * height) / 2)].shape[1]\n",
    "        width = width - (width * 0.1)\n",
    "        self.fps = cap.get(cv2.CAP_PROP_FPS)\n",
    "        self.char_width = int(textsize[0] / len(text))\n",
    "        \n",
    "        for j in tqdm(result[\"segments\"]):\n",
    "            lines = []\n",
    "            text = j[\"text\"]\n",
    "            end = j[\"end\"]\n",
    "            start = j[\"start\"]\n",
    "            total_frames = int((end - start) * self.fps)\n",
    "            start = start * self.fps\n",
    "            total_chars = len(text)\n",
    "            words = text.split(\" \")\n",
    "            i = 0\n",
    "            \n",
    "            while i < len(words):\n",
    "                words[i] = words[i].strip()\n",
    "                if words[i] == \"\":\n",
    "                    i += 1\n",
    "                    continue\n",
    "                length_in_pixels = (len(words[i]) + 1) * self.char_width\n",
    "                remaining_pixels = width - length_in_pixels\n",
    "                line = words[i] \n",
    "                \n",
    "                while remaining_pixels > 0:\n",
    "                    i += 1 \n",
    "                    if i >= len(words):\n",
    "                        break\n",
    "                    length_in_pixels = (len(words[i]) + 1) * self.char_width\n",
    "                    remaining_pixels -= length_in_pixels\n",
    "                    if remaining_pixels < 0:\n",
    "                        continue\n",
    "                    else:\n",
    "                        line += \" \" + words[i]\n",
    "                \n",
    "                line_array = [line, int(start) + 15, int(len(line) / total_chars * total_frames) + int(start) + 15]\n",
    "                start = int(len(line) / total_chars * total_frames) + int(start)\n",
    "                lines.append(line_array)\n",
    "                self.text_array.append(line_array)\n",
    "        \n",
    "        cap.release()\n",
    "        print('Transcription complete')\n",
    "    \n",
    "    def extract_audio(self):\n",
    "        print('Extracting audio')\n",
    "        audio_path = os.path.join(os.path.dirname(self.video_path), \"audio.mp3\")\n",
    "        video = VideoFileClip(self.video_path)\n",
    "        audio = video.audio \n",
    "        audio.write_audiofile(audio_path)\n",
    "        self.audio_path = audio_path\n",
    "        print('Audio extracted')\n",
    "    \n",
    "    def extract_frames(self, output_folder):\n",
    "        print('Extracting frames')\n",
    "        cap = cv2.VideoCapture(self.video_path)\n",
    "        width = int(cap.get(cv2.CAP_PROP_FRAME_WIDTH))\n",
    "        height = int(cap.get(cv2.CAP_PROP_FRAME_HEIGHT))\n",
    "        asp = width / height\n",
    "        N_frames = 0\n",
    "        \n",
    "        while True:\n",
    "            ret, frame = cap.read()\n",
    "            if not ret:\n",
    "                break\n",
    "            \n",
    "            frame = frame[:, int(int(width - 1 / asp * height) / 2):width - int((width - 1 / asp * height) / 2)]\n",
    "            \n",
    "            for i in self.text_array:\n",
    "                if N_frames >= i[1] and N_frames <= i[2]:\n",
    "                    text = i[0]\n",
    "                    text_size, _ = cv2.getTextSize(text, cv2.FONT_HERSHEY_SIMPLEX, 0.8, 2)\n",
    "                    text_x = int((frame.shape[1] - text_size[0]) / 2)\n",
    "                    text_y = int(height/2)\n",
    "                    cv2.putText(frame, text, (text_x, text_y), cv2.FONT_HERSHEY_SIMPLEX, 0.75, (0, 0, 255), 2)\n",
    "                    break\n",
    "            \n",
    "            cv2.imwrite(os.path.join(output_folder, str(N_frames) + \".jpg\"), frame)\n",
    "            N_frames += 1\n",
    "        \n",
    "        cap.release()\n",
    "        print('Frames extracted')\n",
    "\n",
    "    def create_video(self, output_video_path):\n",
    "        print('Creating video')\n",
    "        image_folder = os.path.join(os.path.dirname(self.video_path), \"frames\")\n",
    "        if not os.path.exists(image_folder):\n",
    "            os.makedirs(image_folder)\n",
    "        \n",
    "        self.extract_frames(image_folder)\n",
    "        \n",
    "        images = [img for img in os.listdir(image_folder) if img.endswith(\".jpg\")]\n",
    "        images.sort(key=lambda x: int(x.split(\".\")[0]))\n",
    "        \n",
    "        frame = cv2.imread(os.path.join(image_folder, images[0]))\n",
    "        height, width, layers = frame.shape\n",
    "        \n",
    "        clip = ImageSequenceClip([os.path.join(image_folder, image) for image in images], fps=self.fps)\n",
    "        audio = AudioFileClip(self.audio_path)\n",
    "        clip = clip.set_audio(audio)\n",
    "        clip.write_videofile(output_video_path)\n",
    "        shutil.rmtree(image_folder)\n",
    "        os.remove(os.path.join(os.path.dirname(self.video_path), \"audio.mp3\"))\n",
    "\n",
    "    "
   ]
  },
  {
   "cell_type": "code",
   "execution_count": 11,
   "metadata": {},
   "outputs": [
    {
     "name": "stderr",
     "output_type": "stream",
     "text": [
      "100%|███████████████████████████████████████| 139M/139M [00:06<00:00, 23.5MiB/s]\n",
      "c:\\Users\\HP\\anaconda3\\Lib\\site-packages\\whisper\\__init__.py:150: FutureWarning: You are using `torch.load` with `weights_only=False` (the current default value), which uses the default pickle module implicitly. It is possible to construct malicious pickle data which will execute arbitrary code during unpickling (See https://github.com/pytorch/pytorch/blob/main/SECURITY.md#untrusted-models for more details). In a future release, the default value for `weights_only` will be flipped to `True`. This limits the functions that could be executed during unpickling. Arbitrary objects will no longer be allowed to be loaded via this mode unless they are explicitly allowlisted by the user via `torch.serialization.add_safe_globals`. We recommend you start setting `weights_only=True` for any use case where you don't have full control of the loaded file. Please open an issue on GitHub for any issues related to this experimental feature.\n",
      "  checkpoint = torch.load(fp, map_location=device)\n"
     ]
    },
    {
     "name": "stdout",
     "output_type": "stream",
     "text": [
      "Extracting audio\n",
      "MoviePy - Writing audio in shorts\\audio.mp3\n"
     ]
    },
    {
     "name": "stderr",
     "output_type": "stream",
     "text": [
      "c:\\Users\\HP\\anaconda3\\Lib\\site-packages\\whisper\\transcribe.py:126: UserWarning: FP16 is not supported on CPU; using FP32 instead\n",
      "  warnings.warn(\"FP16 is not supported on CPU; using FP32 instead\")\n"
     ]
    },
    {
     "name": "stdout",
     "output_type": "stream",
     "text": [
      "MoviePy - Done.\n",
      "Audio extracted\n",
      "Transcribing video\n"
     ]
    },
    {
     "name": "stderr",
     "output_type": "stream",
     "text": [
      "100%|██████████| 13/13 [00:00<00:00, 12991.65it/s]\n"
     ]
    },
    {
     "name": "stdout",
     "output_type": "stream",
     "text": [
      "Transcription complete\n",
      "Creating video\n",
      "Extracting frames\n",
      "Frames extracted\n",
      "Moviepy - Building video shorts/transcribed.mp4.\n",
      "MoviePy - Writing audio in transcribedTEMP_MPY_wvf_snd.mp3\n"
     ]
    },
    {
     "name": "stderr",
     "output_type": "stream",
     "text": [
      "                                                                     \r"
     ]
    },
    {
     "name": "stdout",
     "output_type": "stream",
     "text": [
      "MoviePy - Done.\n",
      "Moviepy - Writing video shorts/transcribed.mp4\n",
      "\n"
     ]
    },
    {
     "name": "stderr",
     "output_type": "stream",
     "text": [
      "                                                                \r"
     ]
    },
    {
     "name": "stdout",
     "output_type": "stream",
     "text": [
      "Moviepy - Done !\n",
      "Moviepy - video ready shorts/transcribed.mp4\n"
     ]
    }
   ],
   "source": [
    "model_path = \"base\"\n",
    "video_path = \"shorts/final_video.mp4\"\n",
    "output_video_path = \"shorts/transcribed.mp4\"\n",
    "\n",
    "transcriber = VideoTranscriber(model_path,video_path)\n",
    "transcriber.extract_audio()\n",
    "transcriber.transcribe_video()\n",
    "transcriber.create_video(output_video_path)\n",
    "\n"
   ]
  },
  {
   "cell_type": "code",
   "execution_count": null,
   "metadata": {},
   "outputs": [],
   "source": []
  }
 ],
 "metadata": {
  "kernelspec": {
   "display_name": "base",
   "language": "python",
   "name": "python3"
  },
  "language_info": {
   "codemirror_mode": {
    "name": "ipython",
    "version": 3
   },
   "file_extension": ".py",
   "mimetype": "text/x-python",
   "name": "python",
   "nbconvert_exporter": "python",
   "pygments_lexer": "ipython3",
   "version": "3.12.3"
  }
 },
 "nbformat": 4,
 "nbformat_minor": 2
}
